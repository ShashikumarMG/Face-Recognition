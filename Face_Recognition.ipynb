{
 "cells": [
  {
   "cell_type": "code",
   "execution_count": 1,
   "metadata": {},
   "outputs": [],
   "source": [
    "import cv2\n",
    "import cv2.face\n",
    "import numpy as np\n",
    "import os\n",
    "import math\n",
    "from matplotlib import pyplot as plt\n",
    "from IPython.display import clear_output\n"
   ]
  },
  {
   "cell_type": "code",
   "execution_count": 3,
   "metadata": {},
   "outputs": [
    {
     "name": "stdout",
     "output_type": "stream",
     "text": [
      "True\n"
     ]
    }
   ],
   "source": [
    "webcam = cv2.VideoCapture(0)\n",
    "ret, frame = webcam.read()\n",
    "print(ret)\n",
    "webcam.release()\n"
   ]
  },
  {
   "cell_type": "code",
   "execution_count": null,
   "metadata": {},
   "outputs": [],
   "source": [
    "#creating window thread\n",
    "cv2.startWindowThread()\n",
    "\n",
    "# creating a window to show image\n",
    "cv2.namedWindow(\"Raj\", cv2.WINDOW_NORMAL)\n",
    "cv2.imshow(\"Raj\", frame)\n",
    "\n",
    "#press any key to close external window\n",
    "cv2.waitKey()\n",
    "cv2.destroyAllWindows()"
   ]
  },
  {
   "cell_type": "code",
   "execution_count": null,
   "metadata": {},
   "outputs": [],
   "source": []
  },
  {
   "cell_type": "code",
   "execution_count": null,
   "metadata": {},
   "outputs": [],
   "source": [
    "plt.imshow(frame)\n",
    "plt.show()"
   ]
  },
  {
   "cell_type": "code",
   "execution_count": null,
   "metadata": {},
   "outputs": [],
   "source": [
    "#from BGR to RGB\n",
    "frame_RGB = cv2.cvtColor(frame, cv2.COLOR_BGR2RGB)\n",
    "plt.imshow(frame_RGB)\n",
    "plt.axis(\"off\")\n",
    "plt.show()"
   ]
  },
  {
   "cell_type": "code",
   "execution_count": null,
   "metadata": {
    "collapsed": true
   },
   "outputs": [],
   "source": [
    "#writing images\n",
    "cv2.imwrite(\"images/rgb.jpg\", frame_RGB)\n",
    "cv2.imwrite(\"images/bgr.jpg\", frame)"
   ]
  },
  {
   "cell_type": "code",
   "execution_count": null,
   "metadata": {
    "collapsed": true
   },
   "outputs": [],
   "source": [
    "# video capture\n",
    "webcam = cv2.VideoCapture(0)\n",
    "print(webcam.isOpened)\n"
   ]
  },
  {
   "cell_type": "code",
   "execution_count": null,
   "metadata": {
    "collapsed": true
   },
   "outputs": [],
   "source": [
    "cv2.namedWindow(\"Raj\", cv2.WINDOW_NORMAL)\n",
    "while True:\n",
    "    _, frame = webcam.read()\n",
    "    cv2.imshow(\"Raj\", frame)\n",
    "    # code 27 is escape key\n",
    "    if cv2.waitKey(20) & 0xFF == 27:\n",
    "        break\n",
    "cv2.destroyAllWindows()"
   ]
  },
  {
   "cell_type": "code",
   "execution_count": null,
   "metadata": {
    "collapsed": true
   },
   "outputs": [],
   "source": [
    "# allowing video inside notebook\n",
    "try:\n",
    "    while True:\n",
    "        _, frame = webcam.read()\n",
    "        plt.show()\n",
    "        clear_output(wait=True)\n",
    "except KeyboardInterrupt:\n",
    "    print(\"Live video interrupted\")"
   ]
  },
  {
   "cell_type": "code",
   "execution_count": null,
   "metadata": {
    "collapsed": true
   },
   "outputs": [],
   "source": [
    "#killing video feed\n",
    "webcam.release()"
   ]
  },
  {
   "cell_type": "code",
   "execution_count": null,
   "metadata": {
    "collapsed": true
   },
   "outputs": [],
   "source": [
    "video = cv2.VideoCapture(\"videos/test.mp4\")\n",
    "print(video.isOpened())\n",
    "cv2.namedWindow(\"Raj\", cv2.WINDOW_NORMAL)\n",
    "cv2.imshow(\"Raj\", frame)\n",
    "while video.isOpened():\n",
    "    \n",
    "    ret, frame = video.read()\n",
    "    if not ret:\n",
    "        break\n",
    "#     frame = cv2.cvtColor(frame, cv2.COLOR_BGR2GRAY)\n",
    "#     frame = cv2.flip(frame, 1)\n",
    "    cv2.imshow(\"Raj\", frame)\n",
    "    if cv2.waitKey(40) & 0xFF == ord('q'):\n",
    "        break\n",
    "video.release()\n",
    "cv2.destroyAllWindows()"
   ]
  },
  {
   "cell_type": "code",
   "execution_count": null,
   "metadata": {
    "collapsed": true
   },
   "outputs": [],
   "source": [
    "# allowing video inside notebook\n",
    "from IPython.display import clear_output\n",
    "try:\n",
    "    while True:\n",
    "        ret, frame = webcam.read()\n",
    "        if not ret:\n",
    "            break\n",
    "        width = frame.shape[1]\n",
    "        frame = frame[:, width/3:width,:]\n",
    "        \n",
    "        plt.draw(frame)\n",
    "        plt.show()\n",
    "        clear_output(wait=True)\n",
    "except KeyboardInterrupt:\n",
    "    print(\"Live video interrupted\")\n",
    "video.release()"
   ]
  },
  {
   "cell_type": "code",
   "execution_count": null,
   "metadata": {
    "collapsed": true
   },
   "outputs": [],
   "source": [
    "webcam = cv2.VideoCapture(0)\n",
    "_, frame = webcam.read()\n",
    "cv2.waitKey(40)\n",
    "webcam.release()\n",
    "plt.imshow(frame)\n",
    "plt.show()"
   ]
  },
  {
   "cell_type": "code",
   "execution_count": null,
   "metadata": {
    "collapsed": true
   },
   "outputs": [],
   "source": [
    "# Trying to detect face\n",
    "detector = cv2.CascadeClassifier('C:\\\\Program Files\\\\Anaconda3\\\\Lib\\\\site-packages\\\\cv2\\\\data\\\\haarcascade_frontalface_default.xml')\n",
    "scale_factor = 1.2\n",
    "min_neighbours = 5\n",
    "min_size = (30,30)\n",
    "biggest_only = True\n",
    "flags = cv2.CASCADE_FIND_BIGGEST_OBJECT | \\\n",
    "            cv2.CASCADE_DO_ROUGH_SEARCH if biggest_only else \\\n",
    "            cv2.CASCADE_SCALE_IMAGE\n",
    "faces_cord = detector.detectMultiScale(frame, scaleFactor=scale_factor, minNeighbors=min_neighbours, minSize=min_size, flags=flags)\n",
    "print(\"Type: \" + str(type(faces_cord)))\n",
    "print(faces_cord)\n",
    "print(\"Length: \" + str(len(faces_cord)))"
   ]
  },
  {
   "cell_type": "code",
   "execution_count": null,
   "metadata": {
    "collapsed": true
   },
   "outputs": [],
   "source": [
    "# drawing a rectangle around face\n",
    "for x, y, w, h in faces_cord:\n",
    "    cv2.rectangle(frame, (x, y), (x+w, y+h), (150,150,0), 8)\n",
    "plt.imshow(frame)\n",
    "plt.show()"
   ]
  },
  {
   "cell_type": "code",
   "execution_count": 2,
   "metadata": {
    "collapsed": true
   },
   "outputs": [],
   "source": [
    "class FaceDetector(object):\n",
    "    def __init__(self):\n",
    "        self.classifier = cv2.CascadeClassifier('C:\\\\Program Files\\\\Anaconda3\\\\Lib\\\\site-packages\\\\cv2\\\\data\\\\haarcascade_frontalface_default.xml')\n",
    "    def detect(self, image, biggest_only=True):\n",
    "        scale_factor = 1.2\n",
    "        min_neighbours = 5\n",
    "        min_size = (30,30)\n",
    "        biggest_only = True\n",
    "        flags = cv2.CASCADE_FIND_BIGGEST_OBJECT | \\\n",
    "                    cv2.CASCADE_DO_ROUGH_SEARCH if biggest_only else \\\n",
    "                    cv2.CASCADE_SCALE_IMAGE\n",
    "        faces_cord = self.classifier.detectMultiScale(frame, scaleFactor=scale_factor, minNeighbors=min_neighbours, minSize=min_size, flags=flags)\n",
    "        return faces_cord\n",
    "    "
   ]
  },
  {
   "cell_type": "code",
   "execution_count": 3,
   "metadata": {
    "collapsed": true
   },
   "outputs": [],
   "source": [
    "class VideoCamera(object):\n",
    "    def __init__(self, index=0):\n",
    "        self.video = cv2.VideoCapture(index)\n",
    "        self.index = index\n",
    "        print(self.video.isOpened())\n",
    "    \n",
    "    def __del__(self):\n",
    "        self.video.release()\n",
    "        \n",
    "    def get_frame(self, in_grayscale=False):\n",
    "        _, frame = self. video.read()\n",
    "        if in_grayscale:\n",
    "            frame = cv2.cvtColor(frame, cv2.COLOR_BGR2GRAY)\n",
    "        return frame"
   ]
  },
  {
   "cell_type": "code",
   "execution_count": null,
   "metadata": {
    "collapsed": true
   },
   "outputs": [],
   "source": [
    "#detecting face in a live demo\n",
    "webcam = VideoCamera()\n",
    "detector = FaceDetector()\n"
   ]
  },
  {
   "cell_type": "code",
   "execution_count": null,
   "metadata": {
    "collapsed": true
   },
   "outputs": [],
   "source": [
    "cv2.namedWindow(\"Raj\", cv2.WINDOW_NORMAL)\n",
    "\n",
    "\n",
    "\n",
    "while True:\n",
    "    frame = webcam.get_frame()\n",
    "    faces_cord = detector.detect(frame)\n",
    "    for x, y, w, h in faces_cord:\n",
    "        cv2.rectangle(frame, (x, y), (x+w, y+h), (150,150,0), 8)\n",
    "    cv2.imshow(\"Raj\", frame)\n",
    "    if cv2.waitKey(40) & 0xFF == ord('q'):\n",
    "        break\n",
    "\n",
    "cv2.destroyAllWindows()\n",
    "webcam.video.release()"
   ]
  },
  {
   "cell_type": "code",
   "execution_count": 4,
   "metadata": {
    "collapsed": true
   },
   "outputs": [],
   "source": [
    "def cut_faces(image, face_cord):\n",
    "    faces = []\n",
    "    for x, y, w, h in faces_cord:\n",
    "        w_temp = int(0.2 * w/2)\n",
    "        faces.append(image[y:y+h, x+w_temp:x+w-w_temp])\n",
    "    return faces"
   ]
  },
  {
   "cell_type": "code",
   "execution_count": null,
   "metadata": {
    "collapsed": true
   },
   "outputs": [],
   "source": [
    "try:\n",
    "    while True:\n",
    "        frame = webcam.get_frame()\n",
    "        faces_cord = detector.detect(frame)\n",
    "        if len(faces_cord) != 0:\n",
    "            faces = cut_faces(frame, faces_cord)\n",
    "            plt.imshow(faces[0])\n",
    "            plt.show()\n",
    "            clear_output(wait=True)\n",
    "except KeyboardInterrupt:\n",
    "    print(\"Live video interrupted\")\n",
    "            "
   ]
  },
  {
   "cell_type": "code",
   "execution_count": 5,
   "metadata": {
    "collapsed": true
   },
   "outputs": [],
   "source": [
    "# normalizing images\n",
    "def normalize_intensity(images):\n",
    "    images_norm = []\n",
    "    for image in images:\n",
    "        is_color = len(image.shape) == 3\n",
    "        #if is_color:\n",
    "            #image = cv2.cvtColor(image, cv2.COLOR_BGR2RGB)\n",
    "        #images_norm.append(cv2.equalizeHist(image))\n",
    "        images_norm.append(image)\n",
    "    return images_norm"
   ]
  },
  {
   "cell_type": "code",
   "execution_count": null,
   "metadata": {
    "collapsed": true
   },
   "outputs": [],
   "source": []
  },
  {
   "cell_type": "code",
   "execution_count": null,
   "metadata": {
    "collapsed": true
   },
   "outputs": [],
   "source": [
    "# detect, cut and normalize\n",
    "webcam = VideoCamera()\n",
    "detector = FaceDetector()\n",
    "cv2.namedWindow(\"Raj\", cv2.WINDOW_NORMAL)\n",
    "try:\n",
    "    while True:\n",
    "        frame = webcam.get_frame()\n",
    "        faces_cord = detector.detect(frame)\n",
    "        if len(faces_cord):\n",
    "            faces = cut_faces(frame, faces_cord)\n",
    "            faces = normalize_intensity(faces)\n",
    "            cv2.imshow(\"Raj\", faces[0])\n",
    "            if cv2.waitKey(40) & 0xFF == ord('q'):\n",
    "                break\n",
    "\n",
    "    cv2.destroyAllWindows()\n",
    "    webcam.video.release()\n",
    "except KeyboardInterrupt:\n",
    "    print(\"Live video interrupted\")"
   ]
  },
  {
   "cell_type": "code",
   "execution_count": 6,
   "metadata": {
    "collapsed": true
   },
   "outputs": [],
   "source": [
    "#resize\n",
    "def resize(images, size=(96, 96)):\n",
    "    images_norm = []\n",
    "    for image in images:\n",
    "        if image.shape < size:\n",
    "            image_norm = cv2.resize(image, size, interpolation=cv2.INTER_AREA)\n",
    "        else:\n",
    "            image_norm = cv2.resize(image, size, interpolation=cv2.INTER_CUBIC)\n",
    "        images_norm.append(image_norm)\n",
    "    return images_norm"
   ]
  },
  {
   "cell_type": "code",
   "execution_count": null,
   "metadata": {
    "collapsed": true
   },
   "outputs": [],
   "source": [
    "# detect, cut and normalize\n",
    "webcam = VideoCamera()\n",
    "detector = FaceDetector()\n",
    "cv2.namedWindow(\"Raj\", cv2.WINDOW_NORMAL)\n",
    "try:\n",
    "    while True:\n",
    "        frame = webcam.get_frame()\n",
    "        faces_cord = detector.detect(frame)\n",
    "        if len(faces_cord):\n",
    "            faces = cut_faces(frame, faces_cord)\n",
    "            faces = normalize_intensity(faces)\n",
    "            faces = resize(faces, (96, 96))\n",
    "            cv2.imshow(\"Raj\", faces[0])\n",
    "            if cv2.waitKey(40) & 0xFF == ord('q'):\n",
    "                break\n",
    "\n",
    "    cv2.destroyAllWindows()\n",
    "    webcam.video.release()\n",
    "except KeyboardInterrupt:\n",
    "    print(\"Live video interrupted\")"
   ]
  },
  {
   "cell_type": "code",
   "execution_count": 7,
   "metadata": {
    "collapsed": true
   },
   "outputs": [],
   "source": [
    "def normalize_faces(frame, faces_cord, size=(96, 96)):\n",
    "    faces = cut_faces(frame, faces_cord)\n",
    "    faces = normalize_intensity(faces)\n",
    "    faces = resize(faces,size)\n",
    "    return faces\n",
    "\n",
    "def draw_rectangles(image, cords):\n",
    "    for x, y, w, h in cords:\n",
    "        w_temp = int(0.2 * w/2)\n",
    "        cv2.rectangle(image, (x+w_temp, y),(x+w-w_temp, y+h), (150,150,0), 8)\n"
   ]
  },
  {
   "cell_type": "code",
   "execution_count": null,
   "metadata": {},
   "outputs": [],
   "source": [
    "webcam = VideoCamera(index=0)\n",
    "detector = FaceDetector()\n",
    "folder = \"people/\" + input(\"Person Name?\").lower()\n",
    "cv2.namedWindow(\"Raj\", cv2.WINDOW_AUTOSIZE)\n",
    "if not os.path.exists(folder):\n",
    "    os.mkdir(folder)\n",
    "    counter = 0\n",
    "    timer = 0\n",
    "    while counter < 10:\n",
    "        frame = webcam.get_frame()\n",
    "        faces_cord = detector.detect(frame)\n",
    "        if len(faces_cord) and timer % 700 == 50:\n",
    "            faces = normalize_faces(frame, faces_cord)\n",
    "            cv2.imwrite(folder + '/' + str(counter) + '.jpg', faces[0])\n",
    "            plt.imshow(faces[0])\n",
    "            plt.show()\n",
    "            clear_output(wait=True)\n",
    "            counter += 1\n",
    "        draw_rectangles(frame, faces_cord)\n",
    "        print(frame.shape)\n",
    "        cv2.imshow('Raj', frame)\n",
    "        cv2.waitKey(50)\n",
    "        timer += 50\n",
    "    cv2.destroyAllWindows()\n",
    "else:\n",
    "    print('This name already exists')\n",
    "webcam.video.release()"
   ]
  },
  {
   "cell_type": "code",
   "execution_count": null,
   "metadata": {
    "collapsed": true
   },
   "outputs": [],
   "source": [
    "def collect_dataset():\n",
    "    images = []\n",
    "    labels = []\n",
    "    labels_dic = {}\n",
    "    people = [person for person in os.listdir(\"people/\")]\n",
    "    for i, person in enumerate(people):\n",
    "        labels_dic[i] = person\n",
    "        for image in os.listdir(\"people/\" + person):\n",
    "            images.append(cv2.imread(\"people/\" + person + '/' + image, 0))\n",
    "            labels.append(i)\n",
    "    return (images, np.array(labels), labels_dic)"
   ]
  },
  {
   "cell_type": "code",
   "execution_count": 9,
   "metadata": {
    "collapsed": true
   },
   "outputs": [],
   "source": [
    "images, labels, labels_dic = collect_dataset()\n",
    "rec_eig = cv2.face.EigenFaceRecognizer_create()\n",
    "rec_eig.train(images, labels)\n",
    "\n",
    "fisher = cv2.face.FisherFaceRecognizer_create()\n",
    "fisher.train(images, labels)\n",
    "\n",
    "lbph = cv2.face.LBPHFaceRecognizer_create()\n",
    "lbph.train(images, labels)"
   ]
  },
  {
   "cell_type": "code",
   "execution_count": null,
   "metadata": {
    "collapsed": true
   },
   "outputs": [],
   "source": [
    "# recognition in live video\n",
    "webcam = VideoCamera()\n",
    "detector = FaceDetector()\n",
    "cv2.namedWindow(\"Raj\", cv2.WINDOW_AUTOSIZE)\n",
    "\n",
    "while True:\n",
    "    frame = webcam.get_frame()\n",
    "    faces_cord = detector.detect(frame)\n",
    "    if len(faces_cord):\n",
    "        faces = normalize_faces(frame, faces_cord)\n",
    "        for i, face in enumerate(faces):\n",
    "            pred, conf = lbph.predict(face)\n",
    "            threshold = 80\n",
    "            print(\"Prediction\" + labels_dic[pred].capitalize() + \"\\nConnfidence\" + str(conf))\n",
    "            if conf < threshold:\n",
    "                cv2.putText(frame, labels_dic[pred].capitalize(),(faces_cord[i][0], faces_cord[i][1] - 10), cv2.FONT_HERSHEY_PLAIN, 3, (66,53,243), 2)\n",
    "               \n",
    "        clear_output(wait=True)\n",
    "        draw_rectangles(frame, faces_cord)\n",
    "        cv2.putText(frame, \"Escape to exit\", (5, frame.shape[0]-5), cv2.FONT_HERSHEY_PLAIN, 1.3, (66, 53, 243), 2, cv2.LINE_AA)\n",
    "        cv2.imshow(\"Raj\", frame)\n",
    "        if cv2.waitKey(40) & 0xFF == 27:\n",
    "            cv2.destroyAllWindows()\n",
    "            break\n",
    "webcam.video.release()"
   ]
  },
  {
   "cell_type": "code",
   "execution_count": null,
   "metadata": {
    "collapsed": true
   },
   "outputs": [],
   "source": []
  }
 ],
 "metadata": {
  "kernelspec": {
   "display_name": "Python 3",
   "language": "python",
   "name": "python3"
  },
  "language_info": {
   "codemirror_mode": {
    "name": "ipython",
    "version": 3
   },
   "file_extension": ".py",
   "mimetype": "text/x-python",
   "name": "python",
   "nbconvert_exporter": "python",
   "pygments_lexer": "ipython3",
   "version": "3.7.0"
  }
 },
 "nbformat": 4,
 "nbformat_minor": 2
}
